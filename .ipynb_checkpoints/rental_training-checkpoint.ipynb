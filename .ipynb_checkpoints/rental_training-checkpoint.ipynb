{
 "cells": [
  {
   "cell_type": "code",
   "execution_count": 5,
   "id": "17bd089c-1592-436e-a4cd-1a925ca17554",
   "metadata": {},
   "outputs": [],
   "source": [
    "import numpy as np\n",
    "import pandas as pd\n",
    "from sklearn.linear_model import LinearRegression\n",
    "from sklearn.model_selection import train_test_split"
   ]
  },
  {
   "cell_type": "code",
   "execution_count": 6,
   "id": "7d38da87-8e1c-443c-965e-fe8da1786781",
   "metadata": {},
   "outputs": [],
   "source": [
    "rentalDF = pd.read_csv(\"../MLOPS/VisualPath_Class/0800amist-learning-mlops-main/0800amist-learning-mlops-main/mlops-predict-rental-price/data/rental_1000.csv\")"
   ]
  },
  {
   "cell_type": "code",
   "execution_count": 7,
   "id": "a83b4a7b-4ad7-47d5-a9df-0a3d1faf28b8",
   "metadata": {},
   "outputs": [
    {
     "data": {
      "text/html": [
       "<div>\n",
       "<style scoped>\n",
       "    .dataframe tbody tr th:only-of-type {\n",
       "        vertical-align: middle;\n",
       "    }\n",
       "\n",
       "    .dataframe tbody tr th {\n",
       "        vertical-align: top;\n",
       "    }\n",
       "\n",
       "    .dataframe thead th {\n",
       "        text-align: right;\n",
       "    }\n",
       "</style>\n",
       "<table border=\"1\" class=\"dataframe\">\n",
       "  <thead>\n",
       "    <tr style=\"text-align: right;\">\n",
       "      <th></th>\n",
       "      <th>rooms</th>\n",
       "      <th>sqft</th>\n",
       "      <th>price</th>\n",
       "    </tr>\n",
       "  </thead>\n",
       "  <tbody>\n",
       "    <tr>\n",
       "      <th>0</th>\n",
       "      <td>4</td>\n",
       "      <td>1334</td>\n",
       "      <td>69702</td>\n",
       "    </tr>\n",
       "    <tr>\n",
       "      <th>1</th>\n",
       "      <td>5</td>\n",
       "      <td>1725</td>\n",
       "      <td>86083</td>\n",
       "    </tr>\n",
       "    <tr>\n",
       "      <th>2</th>\n",
       "      <td>1</td>\n",
       "      <td>1058</td>\n",
       "      <td>53492</td>\n",
       "    </tr>\n",
       "    <tr>\n",
       "      <th>3</th>\n",
       "      <td>2</td>\n",
       "      <td>2117</td>\n",
       "      <td>106500</td>\n",
       "    </tr>\n",
       "    <tr>\n",
       "      <th>4</th>\n",
       "      <td>2</td>\n",
       "      <td>2225</td>\n",
       "      <td>110860</td>\n",
       "    </tr>\n",
       "    <tr>\n",
       "      <th>...</th>\n",
       "      <td>...</td>\n",
       "      <td>...</td>\n",
       "      <td>...</td>\n",
       "    </tr>\n",
       "    <tr>\n",
       "      <th>995</th>\n",
       "      <td>2</td>\n",
       "      <td>724</td>\n",
       "      <td>36981</td>\n",
       "    </tr>\n",
       "    <tr>\n",
       "      <th>996</th>\n",
       "      <td>2</td>\n",
       "      <td>2305</td>\n",
       "      <td>114239</td>\n",
       "    </tr>\n",
       "    <tr>\n",
       "      <th>997</th>\n",
       "      <td>4</td>\n",
       "      <td>1782</td>\n",
       "      <td>88291</td>\n",
       "    </tr>\n",
       "    <tr>\n",
       "      <th>998</th>\n",
       "      <td>2</td>\n",
       "      <td>1449</td>\n",
       "      <td>75552</td>\n",
       "    </tr>\n",
       "    <tr>\n",
       "      <th>999</th>\n",
       "      <td>2</td>\n",
       "      <td>1190</td>\n",
       "      <td>60859</td>\n",
       "    </tr>\n",
       "  </tbody>\n",
       "</table>\n",
       "<p>1000 rows × 3 columns</p>\n",
       "</div>"
      ],
      "text/plain": [
       "     rooms  sqft   price\n",
       "0        4  1334   69702\n",
       "1        5  1725   86083\n",
       "2        1  1058   53492\n",
       "3        2  2117  106500\n",
       "4        2  2225  110860\n",
       "..     ...   ...     ...\n",
       "995      2   724   36981\n",
       "996      2  2305  114239\n",
       "997      4  1782   88291\n",
       "998      2  1449   75552\n",
       "999      2  1190   60859\n",
       "\n",
       "[1000 rows x 3 columns]"
      ]
     },
     "execution_count": 7,
     "metadata": {},
     "output_type": "execute_result"
    }
   ],
   "source": [
    "rentalDF\n"
   ]
  },
  {
   "cell_type": "markdown",
   "id": "0f601ead-aa62-4e2f-93b6-9d19058ee501",
   "metadata": {},
   "source": [
    "# Features\n",
    "\n",
    "-rooms\n",
    "-sqft\n",
    "\n",
    "# Labels\n",
    "-price \n"
   ]
  },
  {
   "cell_type": "code",
   "execution_count": 38,
   "id": "ac919cdf-53ce-4b78-b2cf-e6b43de2e375",
   "metadata": {
    "scrolled": true
   },
   "outputs": [
    {
     "data": {
      "text/plain": [
       "array([16.])"
      ]
     },
     "execution_count": 38,
     "metadata": {},
     "output_type": "execute_result"
    }
   ],
   "source": [
    "X = np.array([[1, 1], [1, 2], [2, 2], [2, 3]])\n",
    "\n",
    "# y = 1 * x_0 + 2 * x_1 + 3\n",
    "\n",
    "y = np.dot(X, np.array([1, 2])) + 3\n",
    "\n",
    "reg = LinearRegression().fit(X, y)\n",
    "\n",
    "reg.score(X, y)\n",
    "# 1.0\n",
    "\n",
    "reg.coef_\n",
    "# array([1., 2.])\n",
    "\n",
    "reg.intercept_\n",
    "# 3.0...\n",
    "\n",
    "reg.predict(np.array([[3, 5]]))\n",
    "# array([16.])"
   ]
  },
  {
   "cell_type": "code",
   "execution_count": 39,
   "id": "9793ff49-f284-4619-b981-784b8b586420",
   "metadata": {},
   "outputs": [],
   "source": [
    "X = rentalDF[['rooms','sqft']].values #Features\n",
    "y = rentalDF['price'].values #Label"
   ]
  },
  {
   "cell_type": "code",
   "execution_count": 40,
   "id": "630a223f-f240-439b-ae9c-fabd1aab5096",
   "metadata": {},
   "outputs": [],
   "source": [
    "X_train, X_test, y_train, y_test = train_test_split(X, y, test_size=0.20)"
   ]
  },
  {
   "cell_type": "markdown",
   "id": "28e1780d-e43d-4888-8586-e8a044330205",
   "metadata": {},
   "source": [
    "# Model Training"
   ]
  },
  {
   "cell_type": "code",
   "execution_count": 41,
   "id": "1eceda73-ecc5-410b-981b-0bb692298587",
   "metadata": {},
   "outputs": [],
   "source": [
    "model = LinearRegression().fit(X,y)"
   ]
  },
  {
   "cell_type": "markdown",
   "id": "cd113722-7752-427b-ba46-518ddbf83e96",
   "metadata": {},
   "source": [
    "# Model Prediction"
   ]
  },
  {
   "cell_type": "code",
   "execution_count": 42,
   "id": "c61c8e82-7c22-4686-806f-5186eb2fe5b9",
   "metadata": {},
   "outputs": [
    {
     "name": "stdout",
     "output_type": "stream",
     "text": [
      "[   1 1778]\n"
     ]
    }
   ],
   "source": [
    "print(X_test[0])"
   ]
  },
  {
   "cell_type": "code",
   "execution_count": 43,
   "id": "bb7c2954-406a-4688-a290-925dc7ea4a2c",
   "metadata": {},
   "outputs": [
    {
     "data": {
      "text/plain": [
       "np.float64(89497.24812451165)"
      ]
     },
     "execution_count": 43,
     "metadata": {},
     "output_type": "execute_result"
    }
   ],
   "source": [
    "model.predict(X_test[0].reshape(1,-1))[0]"
   ]
  },
  {
   "cell_type": "code",
   "execution_count": 44,
   "id": "e075b12f-9876-48e2-be08-d1888a15ed5c",
   "metadata": {},
   "outputs": [],
   "source": [
    "predict_rental_price=model.predict(X_test[0].reshape(1,-1))[0]"
   ]
  },
  {
   "cell_type": "code",
   "execution_count": 53,
   "id": "3387b16c-cd30-4b53-baaf-a47bd0abb232",
   "metadata": {},
   "outputs": [
    {
     "name": "stdout",
     "output_type": "stream",
     "text": [
      "The Actual Rental Price for Rooms with Count = 1  and Sqft= 1778 is = 88229\n"
     ]
    }
   ],
   "source": [
    "print(\"The Actual Rental Price for Rooms with Count =\",X_test[0][0],\" and\",\"Sqft=\",X_test[0][1],\"is =\", y_test[0])"
   ]
  },
  {
   "cell_type": "code",
   "execution_count": 52,
   "id": "131a55fc-2bf3-4123-839b-128d943567df",
   "metadata": {},
   "outputs": [
    {
     "name": "stdout",
     "output_type": "stream",
     "text": [
      "The Predicted Rental Price for Rooms with Count = 1  and Area in Sqft= 1778 is = 89497.24812451165\n"
     ]
    }
   ],
   "source": [
    "print(\"The Predicted Rental Price for Rooms with Count =\",X_test[0][0],\" and\",\"Area in Sqft=\",X_test[0][1],\"is =\",predict_rental_price)"
   ]
  },
  {
   "cell_type": "code",
   "execution_count": null,
   "id": "ccc91e7c-9a6c-43e3-b1c1-47328135b6a3",
   "metadata": {},
   "outputs": [],
   "source": []
  }
 ],
 "metadata": {
  "kernelspec": {
   "display_name": "Python 3 (ipykernel)",
   "language": "python",
   "name": "python3"
  },
  "language_info": {
   "codemirror_mode": {
    "name": "ipython",
    "version": 3
   },
   "file_extension": ".py",
   "mimetype": "text/x-python",
   "name": "python",
   "nbconvert_exporter": "python",
   "pygments_lexer": "ipython3",
   "version": "3.12.5"
  }
 },
 "nbformat": 4,
 "nbformat_minor": 5
}
